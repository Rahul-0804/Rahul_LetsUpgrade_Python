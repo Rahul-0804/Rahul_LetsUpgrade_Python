{
 "cells": [
  {
   "cell_type": "markdown",
   "metadata": {},
   "source": [
    "# Question 01:"
   ]
  },
  {
   "cell_type": "markdown",
   "metadata": {},
   "source": [
    "**Try 5 Different functions of the Strings in Python**"
   ]
  },
  {
   "cell_type": "code",
   "execution_count": 28,
   "metadata": {},
   "outputs": [
    {
     "name": "stdout",
     "output_type": "stream",
     "text": [
      "Hello letsupgrade!!\n"
     ]
    }
   ],
   "source": [
    "Str1 = \"hello letsupgrade!!\"\n",
    "a = Str1.capitalize() # capitalize function Converts the first character to upper case\n",
    "print(a)"
   ]
  },
  {
   "cell_type": "code",
   "execution_count": 10,
   "metadata": {
    "scrolled": true
   },
   "outputs": [
    {
     "name": "stdout",
     "output_type": "stream",
     "text": [
      "HELLO LETSUPGRADE\n"
     ]
    }
   ],
   "source": [
    "Str2 = \"hello letsupgrade\"\n",
    "b = Str2.upper() # upper function converts a String into Upper case\n",
    "print(b)"
   ]
  },
  {
   "cell_type": "code",
   "execution_count": 11,
   "metadata": {},
   "outputs": [
    {
     "name": "stdout",
     "output_type": "stream",
     "text": [
      "hello letsupgrade\n"
     ]
    }
   ],
   "source": [
    "Str3 = \"HELLO LETSUPGRADE\"\n",
    "c = Str3.lower() # lower function converts a string into lower case\n",
    "print(c)"
   ]
  },
  {
   "cell_type": "code",
   "execution_count": 18,
   "metadata": {},
   "outputs": [
    {
     "name": "stdout",
     "output_type": "stream",
     "text": [
      "LetsUpgrade\n"
     ]
    }
   ],
   "source": [
    "Str4 = \"LxtsUpgradx\"\n",
    "d = Str4.replace(\"x\",\"e\") # Replace function is used to replace a specified value with another value in the String\n",
    "print(d)"
   ]
  },
  {
   "cell_type": "code",
   "execution_count": 26,
   "metadata": {},
   "outputs": [
    {
     "name": "stdout",
     "output_type": "stream",
     "text": [
      "The Current Assignment is Functions of strings in Python\n"
     ]
    }
   ],
   "source": [
    "Str5 = \"The Current Assignment is {name}\"\n",
    "e = Str5.format(name = \"Functions of strings in Python\")\n",
    "# format function is used to assign any  particular value in the placeholder{}\n",
    "print(e)"
   ]
  },
  {
   "cell_type": "markdown",
   "metadata": {},
   "source": [
    "# Question 02:"
   ]
  },
  {
   "cell_type": "markdown",
   "metadata": {},
   "source": [
    "**Try 5 different functions of the List Object in Python**"
   ]
  },
  {
   "cell_type": "code",
   "execution_count": 19,
   "metadata": {},
   "outputs": [
    {
     "name": "stdout",
     "output_type": "stream",
     "text": [
      "[1, 2, 3, 4, True, 'Rahul', 'orange']\n"
     ]
    }
   ],
   "source": [
    "lst1 = [1,2,3,4,True,'Rahul']\n",
    "lst1.append(\"orange\") # append function adds an element to the end of the list\n",
    "print(lst1)"
   ]
  },
  {
   "cell_type": "code",
   "execution_count": 22,
   "metadata": {},
   "outputs": [
    {
     "name": "stdout",
     "output_type": "stream",
     "text": [
      "[1, 3, 5, 25, 32, 77, 87, 90]\n"
     ]
    }
   ],
   "source": [
    "Lst2 = [5,3,25,87,32,77,90,1]\n",
    "Lst2.sort() # sort function in integers is used to sort the integers in ascending order\n",
    "print(Lst2)"
   ]
  },
  {
   "cell_type": "code",
   "execution_count": 27,
   "metadata": {},
   "outputs": [
    {
     "name": "stdout",
     "output_type": "stream",
     "text": [
      "['Blackpink', 'Camila Cabello', 'Selena Gomez', 'Shawn Mendes']\n"
     ]
    }
   ],
   "source": [
    "Lst2 = [\"Camila Cabello\",\"Selena Gomez\",\"Blackpink\",\"Shawn Mendes\"]\n",
    "Lst2.sort() # sort function in strings elements is used to sort the strings in Alphabetical Order\n",
    "print(Lst2)"
   ]
  },
  {
   "cell_type": "code",
   "execution_count": 28,
   "metadata": {},
   "outputs": [
    {
     "name": "stdout",
     "output_type": "stream",
     "text": [
      "['Camila Cabello', 'Blackpink', 'Shawn Mendes', 'Selena Gomez']\n"
     ]
    }
   ],
   "source": [
    "Lst3 = [\"Camila Cabello\",\"Blackpink\",\"BTS\",\"Shawn Mendes\",\"Selena Gomez\"]\n",
    "Lst3.pop(2) # pop function removes the element at a specified position in the list\n",
    "print(Lst3)"
   ]
  },
  {
   "cell_type": "code",
   "execution_count": 29,
   "metadata": {},
   "outputs": [
    {
     "name": "stdout",
     "output_type": "stream",
     "text": [
      "[]\n"
     ]
    }
   ],
   "source": [
    "Lst4 = [22,44,5,86,7,True,False,\"Rahul\",\"LetsUpgrade\"]\n",
    "Lst4.clear() #clear function is used to clear all the elements in the list\n",
    "print(Lst4)"
   ]
  },
  {
   "cell_type": "code",
   "execution_count": 30,
   "metadata": {},
   "outputs": [
    {
     "name": "stdout",
     "output_type": "stream",
     "text": [
      "['Rahul', 'Kaushik', 'Manoj', 'IIT Bombay', 'IIT Delhi', 'IIT Madras']\n"
     ]
    }
   ],
   "source": [
    "L1 = [\"Rahul\",\"Kaushik\",\"Manoj\"]\n",
    "L2 = [\"IIT Bombay\",\"IIT Delhi\",\"IIT Madras\"]\n",
    "L1.extend(L2) # extend function adds the elements of a list (or any iterable), to the end of the current list\n",
    "print(L1)"
   ]
  },
  {
   "cell_type": "markdown",
   "metadata": {},
   "source": [
    "# Question 03:\n"
   ]
  },
  {
   "cell_type": "markdown",
   "metadata": {},
   "source": [
    "**Experiment with at least 5  default functions of Dictionary** "
   ]
  },
  {
   "cell_type": "code",
   "execution_count": 34,
   "metadata": {},
   "outputs": [
    {
     "name": "stdout",
     "output_type": "stream",
     "text": [
      "Lisa\n"
     ]
    }
   ],
   "source": [
    "D1 = {\"Group\":\"Blackpink\",\"Members\":4,\"Dancer\":\"Lisa\",\"Vocalist\":\"Rose\",\"Rapper\":\"jennie\",\"Leader\":\"Jisoo\" }\n",
    "x = D1.get(\"Dancer\") # get function is used to print the value of a specified key\n",
    "print(x)"
   ]
  },
  {
   "cell_type": "code",
   "execution_count": 35,
   "metadata": {},
   "outputs": [
    {
     "name": "stdout",
     "output_type": "stream",
     "text": [
      "dict_keys(['Group', 'Members', 'Dancer', 'Vocalist', 'Rapper', 'Leader'])\n"
     ]
    }
   ],
   "source": [
    "D1 = {\"Group\":\"Blackpink\",\"Members\":4,\"Dancer\":\"Lisa\",\"Vocalist\":\"Rose\",\"Rapper\":\"jennie\",\"Leader\":\"Jisoo\" }\n",
    "y = D1.keys() # keys function is used to print all the keys of the dictionary\n",
    "print(y)"
   ]
  },
  {
   "cell_type": "code",
   "execution_count": 37,
   "metadata": {},
   "outputs": [
    {
     "name": "stdout",
     "output_type": "stream",
     "text": [
      "{'Group': 'Blackpink', 'Members': 4, 'Dancer': 'Lisa', 'Vocalist': 'Rose', 'Rapper': 'jennie'}\n"
     ]
    }
   ],
   "source": [
    "D1 = {\"Group\":\"Blackpink\",\"Members\":4,\"Dancer\":\"Lisa\",\"Vocalist\":\"Rose\",\"Rapper\":\"jennie\",\"Leader\":\"Jisoo\" }\n",
    "D1.pop(\"Leader\") # pop function removes the value of a specified key in the dictionary \n",
    "print(D1)"
   ]
  },
  {
   "cell_type": "code",
   "execution_count": 39,
   "metadata": {},
   "outputs": [
    {
     "name": "stdout",
     "output_type": "stream",
     "text": [
      "{'Group': 'Blackpink', 'Members': 4, 'Dancer': 'Lisa', 'Vocalist': 'Rose', 'Rapper': 'jennie', 'Leader': 'Jisoo', 'Albums': 1}\n"
     ]
    }
   ],
   "source": [
    "D1 = {\"Group\":\"Blackpink\",\"Members\":4,\"Dancer\":\"Lisa\",\"Vocalist\":\"Rose\",\"Rapper\":\"jennie\",\"Leader\":\"Jisoo\" }\n",
    "D1.update({\"Albums\":1}) # update function adds a specified key-value pairs \n",
    "print(D1)"
   ]
  },
  {
   "cell_type": "code",
   "execution_count": 41,
   "metadata": {},
   "outputs": [
    {
     "name": "stdout",
     "output_type": "stream",
     "text": [
      "dict_values(['Blackpink', 4, 'Lisa', 'Rose', 'jennie', 'Jisoo'])\n"
     ]
    }
   ],
   "source": [
    "D1 = {\"Group\":\"Blackpink\",\"Members\":4,\"Dancer\":\"Lisa\",\"Vocalist\":\"Rose\",\"Rapper\":\"jennie\",\"Leader\":\"Jisoo\" }\n",
    "a = D1.values() # values function is used to print all the values of the dictionary \n",
    "print(a)"
   ]
  }
 ],
 "metadata": {
  "kernelspec": {
   "display_name": "Python 3",
   "language": "python",
   "name": "python3"
  },
  "language_info": {
   "codemirror_mode": {
    "name": "ipython",
    "version": 3
   },
   "file_extension": ".py",
   "mimetype": "text/x-python",
   "name": "python",
   "nbconvert_exporter": "python",
   "pygments_lexer": "ipython3",
   "version": "3.7.3"
  }
 },
 "nbformat": 4,
 "nbformat_minor": 4
}
