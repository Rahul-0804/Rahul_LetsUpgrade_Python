{
 "cells": [
  {
   "cell_type": "code",
   "execution_count": 7,
   "metadata": {},
   "outputs": [],
   "source": [
    "from pytube import YouTube\n",
    "from tkinter import *\n",
    "import os"
   ]
  },
  {
   "cell_type": "code",
   "execution_count": 28,
   "metadata": {},
   "outputs": [],
   "source": [
    "design = Tk()\n",
    "design.geometry('700x300')\n",
    "design.title('YouTube Video Downloader')\n",
    " \n",
    "Label_1 = Label(design, text = 'Paste Your Link Here', font = ('bold',20))\n",
    "Label_1.place(x = 140, y = 40 )\n",
    "\n",
    "link = StringVar()\n",
    "\n",
    "#link = https://www.youtube.com/watch?v=IdejM6wCkxA\n",
    "\n",
    "pasteLink = Entry(design, width = 60, textvariable = link, bg = '#D8D8D8', fg = '#C80306', bd = 4)\n",
    "pasteLink.place(x = 160, y = 100 )\n",
    "\n",
    "def downloadVideo():\n",
    "    x=str(link.get())\n",
    "    ytvideo=YouTube(x).streams.filter(progressive=True, file_extension='mp4').order_by('resolution').desc().first()\n",
    "    if not os.path.exists('D:/Letsupgrade/Youtube Videos'):\n",
    "        os.makedirs('D:/Letsupgrade/Youtube Videos')\n",
    "    ytvideo.download('D:/Letsupgrade/Youtube Videos')\n",
    "    \n",
    "Button(design,text = \"Download\", width = 20, bg = 'orange', fg = \"black\", command = downloadVideo).place(x=240, y=130)   \n",
    "    \n",
    "design.mainloop()"
   ]
  }
 ],
 "metadata": {
  "kernelspec": {
   "display_name": "Python 3",
   "language": "python",
   "name": "python3"
  },
  "language_info": {
   "codemirror_mode": {
    "name": "ipython",
    "version": 3
   },
   "file_extension": ".py",
   "mimetype": "text/x-python",
   "name": "python",
   "nbconvert_exporter": "python",
   "pygments_lexer": "ipython3",
   "version": "3.8.5"
  }
 },
 "nbformat": 4,
 "nbformat_minor": 4
}
