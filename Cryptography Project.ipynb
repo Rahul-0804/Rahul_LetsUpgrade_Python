{
 "cells": [
  {
   "cell_type": "markdown",
   "metadata": {},
   "source": [
    "# Project:"
   ]
  },
  {
   "cell_type": "markdown",
   "metadata": {},
   "source": [
    "## Cryptography Project"
   ]
  },
  {
   "cell_type": "code",
   "execution_count": 3,
   "metadata": {},
   "outputs": [],
   "source": [
    "from cryptography.fernet import Fernet"
   ]
  },
  {
   "cell_type": "code",
   "execution_count": 4,
   "metadata": {},
   "outputs": [
    {
     "name": "stdout",
     "output_type": "stream",
     "text": [
      "Key: q5GWtLfZB-lalXpJHWnZCHVbhzIXk9-mFqEbmTyt3Ow=\n",
      "Enter Your Content: Hello There!! How are you? My password is 92233344\n",
      "Enter The key to Encrypt The Content: q5GWtLfZB-lalXpJHWnZCHVbhzIXk9-mFqEbmTyt3Ow=\n",
      "Encrypted Content:  b'gAAAAABf3fneEQNvJlntgr8YMTVQ71w6TtE5RB8eat7svt89oKvyYtNYnMxMxCkS1DZ0GFeW6CUfChk69VLAtyboRAkE4U9faOBmYOlZoFQO3ylR967-gVs5Pt5JwEU2HMonikv1OHxOi8jvfgFEslFkbYYMy1Z38A=='\n",
      "Do you want to decrypt the message?\n",
      "Enter Yes or No: yes\n",
      "Enter The Key to Decrypt The Content:q5GWtLfZB-lalXpJHWnZCHVbhzIXk9-mFqEbmTyt3Ow=\n",
      "Decrypted Content:  Hello There!! How are you? My password is 92233344\n"
     ]
    }
   ],
   "source": [
    "key = Fernet.generate_key()\n",
    "print('Key:',key.decode('utf-8'))\n",
    "k = Fernet(key)\n",
    "n = bytes(input('Enter Your Content: '), 'utf-8')\n",
    "b = bytes(input('Enter The key to Encrypt The Content: '),'utf-8')\n",
    "if b == key:\n",
    "    cipher_text = k.encrypt(n)\n",
    "    print('Encrypted Content: ',cipher_text)\n",
    "option = input('Do you want to decrypt the message?\\nEnter Yes or No: ')\n",
    "if option == 'yes' or option == 'Yes':\n",
    "    c = bytes(input('Enter The Key to Decrypt The Content:'), 'utf-8')\n",
    "    if c == key:\n",
    "        plain_text = k.decrypt(cipher_text)\n",
    "        print('Decrypted Content: ',plain_text.decode('utf-8'))\n",
    "    else:\n",
    "        print('Enter The Correct Key to Decrypt Your Content')\n",
    "else: print('Okay!\\nYour Content is safe with us. Have a nice day')        "
   ]
  },
  {
   "cell_type": "code",
   "execution_count": null,
   "metadata": {},
   "outputs": [],
   "source": []
  }
 ],
 "metadata": {
  "kernelspec": {
   "display_name": "Python 3",
   "language": "python",
   "name": "python3"
  },
  "language_info": {
   "codemirror_mode": {
    "name": "ipython",
    "version": 3
   },
   "file_extension": ".py",
   "mimetype": "text/x-python",
   "name": "python",
   "nbconvert_exporter": "python",
   "pygments_lexer": "ipython3",
   "version": "3.8.5"
  }
 },
 "nbformat": 4,
 "nbformat_minor": 4
}
